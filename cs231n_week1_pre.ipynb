{
 "cells": [
  {
   "cell_type": "markdown",
   "id": "endless-daisy",
   "metadata": {},
   "source": [
    "\n",
    "### 📚 Stanford cs231n \n",
    "### 🚩 Euron AI team 황시은 1주차 예습\n",
    "# Introduction to CNN for Visual Recognition\n",
    "\n",
    "## ✅ A brief history of computer vision\n",
    "- about 540 m years ago: number of animal species exploded   \n",
    "  ⇒ 동물들이 볼 수 있게 된 이후 변화 발생  \n",
    "  ⇒  살아남기 위해 더 빠른 진화가 필요\n",
    "- Mechanical vision  \n",
    " ⇒  Camera Obscura\n",
    "- Using electropysiology\n",
    "  *  What's visual processing mechanism like in mammals  \n",
    "=> 고양이의 뇌를 관찰하여 특정 방향으로 움직일 때 oriented edges에 반응하는 세포 발견 \n",
    "- Block world  \n",
    " ⇒ simplify the visual world into simple geometric shape\n",
    "- Summer vision project of MIT\n",
    "- David Lowe : 물체를 선과 테두리, 그리고 직선의 조합으로 인식함( in 80s )\n",
    "- Recognition이 어렵다면 Segmentation부터 해보자!   \n",
    " ⇒ group the pixels into meaningful area\n",
    "\n",
    "- Feature based Object Recognition  \n",
    " ▫  **SIFT( David Lowe )**: 변화에 대한 dignostic하고 불변한 상태로 남아 있는 물체의 몇몇 특징들이 있음  \n",
    "  ▫  **Spatial Pyramid Matching**: 이미지에는 그것이 어떤 장면의 이미지인지에 대한 단서가 있음\n",
    "- PASCAL Visual Object Challenge  \n",
    " ▫ 20 objects  \n",
    " ▫ mAP increased steadily\n",
    "- ImageNet  \n",
    " ▫  Want to recognize all the objects in the world  \n",
    " ▫ Want to overcome overfitting of Machine Learning  \n",
    " ▫  WorldNet: Classes of images   \n",
    " ▫ 22K categories and 14M images  \n",
    " ▫ 2012년에 **CNN** 의 등장으로 엄청난 성능 향상  \n",
    "\n",
    "## ✅ **cs231n Overview**\n",
    "Focuses on one of the most important problems of visual recognition - **image classification**  \n",
    "Also learn about **object detection, image captioning**\n",
    "> *CNN have become an important tool for object recognition*\n",
    "\n",
    "**Key  Innovations**    \n",
    "✔ Improvements of Computation  \n",
    "⇒ allow to use larger models, architectures  \n",
    "✔ Huge dataset  \n",
    "ex) PASCAL, ImageNet\n",
    "\n",
    "**Open challenges**  \n",
    "✔ Reconstruction whole world  \n",
    "✔ Activity Recognition  \n",
    "✔ Virtual Reality"
   ]
  }
 ],
 "metadata": {
  "kernelspec": {
   "display_name": "Python 3",
   "language": "python",
   "name": "python3"
  },
  "language_info": {
   "codemirror_mode": {
    "name": "ipython",
    "version": 3
   },
   "file_extension": ".py",
   "mimetype": "text/x-python",
   "name": "python",
   "nbconvert_exporter": "python",
   "pygments_lexer": "ipython3",
   "version": "3.6.3"
  },
  "varInspector": {
   "cols": {
    "lenName": 16,
    "lenType": 16,
    "lenVar": 40
   },
   "kernels_config": {
    "python": {
     "delete_cmd_postfix": "",
     "delete_cmd_prefix": "del ",
     "library": "var_list.py",
     "varRefreshCmd": "print(var_dic_list())"
    },
    "r": {
     "delete_cmd_postfix": ") ",
     "delete_cmd_prefix": "rm(",
     "library": "var_list.r",
     "varRefreshCmd": "cat(var_dic_list()) "
    }
   },
   "types_to_exclude": [
    "module",
    "function",
    "builtin_function_or_method",
    "instance",
    "_Feature"
   ],
   "window_display": false
  }
 },
 "nbformat": 4,
 "nbformat_minor": 5
}
